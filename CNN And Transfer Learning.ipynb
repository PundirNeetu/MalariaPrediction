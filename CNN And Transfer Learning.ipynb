{
 "cells": [
  {
   "cell_type": "markdown",
   "metadata": {},
   "source": [
    "## Creating CNN Using Scratch And Transfer Learning"
   ]
  },
  {
   "cell_type": "markdown",
   "metadata": {},
   "source": [
    "- time taken if we run same using GPU\n",
    "- code from scratch using CNN and transfer learning\n",
    "- Download [Dataset](https://www.kaggle.com/iarunava/cell-images-for-detecting-malaria)\n"
   ]
  },
  {
   "cell_type": "code",
   "execution_count": 1,
   "metadata": {},
   "outputs": [],
   "source": [
    "# import the libraries as shown below\n",
    "\n",
    "from tensorflow.keras.layers import Input, Lambda, Dense, Flatten,Conv2D\n",
    "from tensorflow.keras.models import Model\n",
    "# vgg19 give better accuracy than vgg16\n",
    "from tensorflow.keras.applications.vgg19 import VGG19\n",
    "from tensorflow.keras.applications.resnet50 import preprocess_input\n",
    "from tensorflow.keras.preprocessing import image\n",
    "from tensorflow.keras.preprocessing.image import ImageDataGenerator,load_img\n",
    "from tensorflow.keras.models import Sequential\n",
    "import numpy as np\n",
    "from glob import glob\n",
    "import matplotlib.pyplot as plt"
   ]
  },
  {
   "cell_type": "code",
   "execution_count": 2,
   "metadata": {},
   "outputs": [
    {
     "name": "stdout",
     "output_type": "stream",
     "text": [
      "2.4.1\n"
     ]
    }
   ],
   "source": [
    "# if tensorflow version is less than 2 then remove tensorflow dot from above import of libraries\n",
    "import tensorflow as tf\n",
    "print(tf.__version__)"
   ]
  },
  {
   "cell_type": "code",
   "execution_count": 5,
   "metadata": {},
   "outputs": [],
   "source": [
    "# re-size all the images to this\n",
    "# when open image in paint and check for pixel then it was more than 130\n",
    "# So decided to take enlarge image using 224,224\n",
    "IMAGE_SIZE = [224, 224]\n",
    "\n",
    "train_path = 'Dataset/Train'\n",
    "valid_path = 'Dataset/Test'\n"
   ]
  },
  {
   "cell_type": "code",
   "execution_count": 6,
   "metadata": {},
   "outputs": [],
   "source": [
    "# Import the Vgg 16 library as shown below and add preprocessing layer to the front of VGG\n",
    "# Here we will be using imagenet weights\n",
    "#[3] represent three RGB channel\n",
    "# include_top=False remove first and last layer\n",
    "\n",
    "mobilnet = VGG19(input_shape=IMAGE_SIZE + [3], weights='imagenet', include_top=False)\n",
    "\n",
    "\n"
   ]
  },
  {
   "cell_type": "code",
   "execution_count": 23,
   "metadata": {},
   "outputs": [
    {
     "name": "stdout",
     "output_type": "stream",
     "text": [
      "Model: \"vgg19\"\n",
      "_________________________________________________________________\n",
      "Layer (type)                 Output Shape              Param #   \n",
      "=================================================================\n",
      "input_2 (InputLayer)         [(None, 224, 224, 3)]     0         \n",
      "_________________________________________________________________\n",
      "block1_conv1 (Conv2D)        (None, 224, 224, 64)      1792      \n",
      "_________________________________________________________________\n",
      "block1_conv2 (Conv2D)        (None, 224, 224, 64)      36928     \n",
      "_________________________________________________________________\n",
      "block1_pool (MaxPooling2D)   (None, 112, 112, 64)      0         \n",
      "_________________________________________________________________\n",
      "block2_conv1 (Conv2D)        (None, 112, 112, 128)     73856     \n",
      "_________________________________________________________________\n",
      "block2_conv2 (Conv2D)        (None, 112, 112, 128)     147584    \n",
      "_________________________________________________________________\n",
      "block2_pool (MaxPooling2D)   (None, 56, 56, 128)       0         \n",
      "_________________________________________________________________\n",
      "block3_conv1 (Conv2D)        (None, 56, 56, 256)       295168    \n",
      "_________________________________________________________________\n",
      "block3_conv2 (Conv2D)        (None, 56, 56, 256)       590080    \n",
      "_________________________________________________________________\n",
      "block3_conv3 (Conv2D)        (None, 56, 56, 256)       590080    \n",
      "_________________________________________________________________\n",
      "block3_conv4 (Conv2D)        (None, 56, 56, 256)       590080    \n",
      "_________________________________________________________________\n",
      "block3_pool (MaxPooling2D)   (None, 28, 28, 256)       0         \n",
      "_________________________________________________________________\n",
      "block4_conv1 (Conv2D)        (None, 28, 28, 512)       1180160   \n",
      "_________________________________________________________________\n",
      "block4_conv2 (Conv2D)        (None, 28, 28, 512)       2359808   \n",
      "_________________________________________________________________\n",
      "block4_conv3 (Conv2D)        (None, 28, 28, 512)       2359808   \n",
      "_________________________________________________________________\n",
      "block4_conv4 (Conv2D)        (None, 28, 28, 512)       2359808   \n",
      "_________________________________________________________________\n",
      "block4_pool (MaxPooling2D)   (None, 14, 14, 512)       0         \n",
      "_________________________________________________________________\n",
      "block5_conv1 (Conv2D)        (None, 14, 14, 512)       2359808   \n",
      "_________________________________________________________________\n",
      "block5_conv2 (Conv2D)        (None, 14, 14, 512)       2359808   \n",
      "_________________________________________________________________\n",
      "block5_conv3 (Conv2D)        (None, 14, 14, 512)       2359808   \n",
      "_________________________________________________________________\n",
      "block5_conv4 (Conv2D)        (None, 14, 14, 512)       2359808   \n",
      "_________________________________________________________________\n",
      "block5_pool (MaxPooling2D)   (None, 7, 7, 512)         0         \n",
      "=================================================================\n",
      "Total params: 20,024,384\n",
      "Trainable params: 0\n",
      "Non-trainable params: 20,024,384\n",
      "_________________________________________________________________\n"
     ]
    }
   ],
   "source": [
    "mobilnet.summaryaryary()"
   ]
  },
  {
   "cell_type": "code",
   "execution_count": 7,
   "metadata": {},
   "outputs": [],
   "source": [
    "# don't train existing weights\n",
    "for layer in mobilnet.layers:\n",
    "    layer.trainable = False"
   ]
  },
  {
   "cell_type": "code",
   "execution_count": 8,
   "metadata": {},
   "outputs": [],
   "source": [
    "# useful for getting number of output classes\n",
    "folders = glob('Dataset/Train/*')"
   ]
  },
  {
   "cell_type": "code",
   "execution_count": 9,
   "metadata": {},
   "outputs": [
    {
     "data": {
      "text/plain": [
       "['Dataset/Train\\\\Parasite', 'Dataset/Train\\\\Uninfected']"
      ]
     },
     "execution_count": 9,
     "metadata": {},
     "output_type": "execute_result"
    }
   ],
   "source": [
    "folders"
   ]
  },
  {
   "cell_type": "code",
   "execution_count": 10,
   "metadata": {},
   "outputs": [],
   "source": [
    "# our layers - you can add more if you want\n",
    "x = Flatten()(mobilnet.output)"
   ]
  },
  {
   "cell_type": "code",
   "execution_count": 11,
   "metadata": {},
   "outputs": [],
   "source": [
    "prediction = Dense(len(folders), activation='softmax')(x)\n",
    "\n",
    "# create a model object\n",
    "model = Model(inputs=mobilnet.input, outputs=prediction)"
   ]
  },
  {
   "cell_type": "code",
   "execution_count": 12,
   "metadata": {},
   "outputs": [
    {
     "name": "stdout",
     "output_type": "stream",
     "text": [
      "Model: \"model\"\n",
      "_________________________________________________________________\n",
      "Layer (type)                 Output Shape              Param #   \n",
      "=================================================================\n",
      "input_2 (InputLayer)         [(None, 224, 224, 3)]     0         \n",
      "_________________________________________________________________\n",
      "block1_conv1 (Conv2D)        (None, 224, 224, 64)      1792      \n",
      "_________________________________________________________________\n",
      "block1_conv2 (Conv2D)        (None, 224, 224, 64)      36928     \n",
      "_________________________________________________________________\n",
      "block1_pool (MaxPooling2D)   (None, 112, 112, 64)      0         \n",
      "_________________________________________________________________\n",
      "block2_conv1 (Conv2D)        (None, 112, 112, 128)     73856     \n",
      "_________________________________________________________________\n",
      "block2_conv2 (Conv2D)        (None, 112, 112, 128)     147584    \n",
      "_________________________________________________________________\n",
      "block2_pool (MaxPooling2D)   (None, 56, 56, 128)       0         \n",
      "_________________________________________________________________\n",
      "block3_conv1 (Conv2D)        (None, 56, 56, 256)       295168    \n",
      "_________________________________________________________________\n",
      "block3_conv2 (Conv2D)        (None, 56, 56, 256)       590080    \n",
      "_________________________________________________________________\n",
      "block3_conv3 (Conv2D)        (None, 56, 56, 256)       590080    \n",
      "_________________________________________________________________\n",
      "block3_conv4 (Conv2D)        (None, 56, 56, 256)       590080    \n",
      "_________________________________________________________________\n",
      "block3_pool (MaxPooling2D)   (None, 28, 28, 256)       0         \n",
      "_________________________________________________________________\n",
      "block4_conv1 (Conv2D)        (None, 28, 28, 512)       1180160   \n",
      "_________________________________________________________________\n",
      "block4_conv2 (Conv2D)        (None, 28, 28, 512)       2359808   \n",
      "_________________________________________________________________\n",
      "block4_conv3 (Conv2D)        (None, 28, 28, 512)       2359808   \n",
      "_________________________________________________________________\n",
      "block4_conv4 (Conv2D)        (None, 28, 28, 512)       2359808   \n",
      "_________________________________________________________________\n",
      "block4_pool (MaxPooling2D)   (None, 14, 14, 512)       0         \n",
      "_________________________________________________________________\n",
      "block5_conv1 (Conv2D)        (None, 14, 14, 512)       2359808   \n",
      "_________________________________________________________________\n",
      "block5_conv2 (Conv2D)        (None, 14, 14, 512)       2359808   \n",
      "_________________________________________________________________\n",
      "block5_conv3 (Conv2D)        (None, 14, 14, 512)       2359808   \n",
      "_________________________________________________________________\n",
      "block5_conv4 (Conv2D)        (None, 14, 14, 512)       2359808   \n",
      "_________________________________________________________________\n",
      "block5_pool (MaxPooling2D)   (None, 7, 7, 512)         0         \n",
      "_________________________________________________________________\n",
      "flatten (Flatten)            (None, 25088)             0         \n",
      "_________________________________________________________________\n",
      "dense (Dense)                (None, 2)                 50178     \n",
      "=================================================================\n",
      "Total params: 20,074,562\n",
      "Trainable params: 50,178\n",
      "Non-trainable params: 20,024,384\n",
      "_________________________________________________________________\n"
     ]
    }
   ],
   "source": [
    "\n",
    "# view the structure of the model\n",
    "model.summary()\n"
   ]
  },
  {
   "cell_type": "code",
   "execution_count": 13,
   "metadata": {},
   "outputs": [],
   "source": [
    "from tensorflow.keras.layers import MaxPooling2D"
   ]
  },
  {
   "cell_type": "code",
   "execution_count": 14,
   "metadata": {},
   "outputs": [
    {
     "name": "stdout",
     "output_type": "stream",
     "text": [
      "Model: \"sequential\"\n",
      "_________________________________________________________________\n",
      "Layer (type)                 Output Shape              Param #   \n",
      "=================================================================\n",
      "conv2d (Conv2D)              (None, 224, 224, 16)      208       \n",
      "_________________________________________________________________\n",
      "max_pooling2d (MaxPooling2D) (None, 112, 112, 16)      0         \n",
      "_________________________________________________________________\n",
      "conv2d_1 (Conv2D)            (None, 112, 112, 32)      2080      \n",
      "_________________________________________________________________\n",
      "max_pooling2d_1 (MaxPooling2 (None, 56, 56, 32)        0         \n",
      "_________________________________________________________________\n",
      "conv2d_2 (Conv2D)            (None, 56, 56, 64)        8256      \n",
      "_________________________________________________________________\n",
      "max_pooling2d_2 (MaxPooling2 (None, 28, 28, 64)        0         \n",
      "_________________________________________________________________\n",
      "flatten_1 (Flatten)          (None, 50176)             0         \n",
      "_________________________________________________________________\n",
      "dense_1 (Dense)              (None, 500)               25088500  \n",
      "_________________________________________________________________\n",
      "dense_2 (Dense)              (None, 2)                 1002      \n",
      "=================================================================\n",
      "Total params: 25,100,046\n",
      "Trainable params: 25,100,046\n",
      "Non-trainable params: 0\n",
      "_________________________________________________________________\n"
     ]
    }
   ],
   "source": [
    "### Create Model from scratch using CNN\n",
    "model=Sequential()\n",
    "model.add(Conv2D(filters=16,kernel_size=2,padding=\"same\",activation=\"relu\",input_shape=(224,224,3)))\n",
    "model.add(MaxPooling2D(pool_size=2))\n",
    "model.add(Conv2D(filters=32,kernel_size=2,padding=\"same\",activation =\"relu\"))\n",
    "model.add(MaxPooling2D(pool_size=2))\n",
    "model.add(Conv2D(filters=64,kernel_size=2,padding=\"same\",activation=\"relu\"))\n",
    "model.add(MaxPooling2D(pool_size=2))\n",
    "model.add(Flatten())\n",
    "model.add(Dense(500,activation=\"relu\"))\n",
    "model.add(Dense(2,activation=\"softmax\"))\n",
    "model.summary()"
   ]
  },
  {
   "cell_type": "code",
   "execution_count": 15,
   "metadata": {},
   "outputs": [],
   "source": [
    "# tell the model what cost and optimization method to use\n",
    "model.compile(\n",
    "  loss='categorical_crossentropy',# not binary entropy as we hav 2 node at end\n",
    "  optimizer='adam',\n",
    "  metrics=['accuracy']\n",
    ")\n"
   ]
  },
  {
   "cell_type": "code",
   "execution_count": 16,
   "metadata": {},
   "outputs": [],
   "source": [
    "# Use the Image Data Generator to import the images from the dataset\n",
    "from tensorflow.keras.preprocessing.image import ImageDataGenerator\n",
    "\n",
    "train_datagen = ImageDataGenerator(rescale = 1./255,\n",
    "                                   shear_range = 0.2,\n",
    "                                   zoom_range = 0.2,\n",
    "                                   horizontal_flip = True)\n",
    "\n",
    "test_datagen = ImageDataGenerator(rescale = 1./255)"
   ]
  },
  {
   "cell_type": "code",
   "execution_count": 17,
   "metadata": {},
   "outputs": [
    {
     "name": "stdout",
     "output_type": "stream",
     "text": [
      "Found 416 images belonging to 2 classes.\n"
     ]
    }
   ],
   "source": [
    "# Make sure you provide the same target size as initialied for the image size\n",
    "training_set = train_datagen.flow_from_directory('Dataset/Train',\n",
    "                                                 target_size = (224, 224),\n",
    "                                                 batch_size = 32,\n",
    "                                                 class_mode = 'categorical')"
   ]
  },
  {
   "cell_type": "code",
   "execution_count": 18,
   "metadata": {},
   "outputs": [
    {
     "data": {
      "text/plain": [
       "<tensorflow.python.keras.preprocessing.image.DirectoryIterator at 0x204858f2708>"
      ]
     },
     "execution_count": 18,
     "metadata": {},
     "output_type": "execute_result"
    }
   ],
   "source": [
    "training_set"
   ]
  },
  {
   "cell_type": "code",
   "execution_count": 19,
   "metadata": {},
   "outputs": [
    {
     "name": "stdout",
     "output_type": "stream",
     "text": [
      "Found 134 images belonging to 2 classes.\n"
     ]
    }
   ],
   "source": [
    "test_set = test_datagen.flow_from_directory('Dataset/Test',\n",
    "                                            target_size = (224, 224),\n",
    "                                            batch_size = 32,\n",
    "                                            class_mode = 'categorical')"
   ]
  },
  {
   "cell_type": "code",
   "execution_count": 21,
   "metadata": {
    "scrolled": true
   },
   "outputs": [
    {
     "name": "stderr",
     "output_type": "stream",
     "text": [
      "C:\\Users\\neetu\\anaconda3\\lib\\site-packages\\tensorflow\\python\\keras\\engine\\training.py:1844: UserWarning: `Model.fit_generator` is deprecated and will be removed in a future version. Please use `Model.fit`, which supports generators.\n",
      "  warnings.warn('`Model.fit_generator` is deprecated and '\n"
     ]
    },
    {
     "name": "stdout",
     "output_type": "stream",
     "text": [
      "Epoch 1/50\n",
      "13/13 [==============================] - 14s 1s/step - loss: 2.9185 - accuracy: 0.5372 - val_loss: 0.6331 - val_accuracy: 0.6791\n",
      "Epoch 2/50\n",
      "13/13 [==============================] - 13s 1s/step - loss: 0.6977 - accuracy: 0.5073 - val_loss: 0.7046 - val_accuracy: 0.4179\n",
      "Epoch 3/50\n",
      "13/13 [==============================] - 15s 1s/step - loss: 0.6740 - accuracy: 0.5921 - val_loss: 0.7278 - val_accuracy: 0.3806\n",
      "Epoch 4/50\n",
      "13/13 [==============================] - 15s 1s/step - loss: 0.6735 - accuracy: 0.5800 - val_loss: 0.6867 - val_accuracy: 0.5075\n",
      "Epoch 5/50\n",
      "13/13 [==============================] - 13s 1s/step - loss: 0.6698 - accuracy: 0.5721 - val_loss: 0.6924 - val_accuracy: 0.5149\n",
      "Epoch 6/50\n",
      "13/13 [==============================] - 14s 1s/step - loss: 0.5939 - accuracy: 0.6975 - val_loss: 0.8248 - val_accuracy: 0.3881\n",
      "Epoch 7/50\n",
      "13/13 [==============================] - 14s 1s/step - loss: 0.6568 - accuracy: 0.6266 - val_loss: 0.8050 - val_accuracy: 0.4030\n",
      "Epoch 8/50\n",
      "13/13 [==============================] - 14s 1s/step - loss: 0.5896 - accuracy: 0.7095 - val_loss: 0.8062 - val_accuracy: 0.3881\n",
      "Epoch 9/50\n",
      "13/13 [==============================] - 13s 1s/step - loss: 0.5139 - accuracy: 0.7701 - val_loss: 1.0150 - val_accuracy: 0.4104\n",
      "Epoch 10/50\n",
      "13/13 [==============================] - 14s 1s/step - loss: 0.4401 - accuracy: 0.7906 - val_loss: 0.9299 - val_accuracy: 0.3806\n",
      "Epoch 11/50\n",
      "13/13 [==============================] - 15s 1s/step - loss: 0.4315 - accuracy: 0.7802 - val_loss: 0.9966 - val_accuracy: 0.3507\n",
      "Epoch 12/50\n",
      "13/13 [==============================] - 14s 1s/step - loss: 0.4500 - accuracy: 0.7745 - val_loss: 1.3513 - val_accuracy: 0.3358\n",
      "Epoch 13/50\n",
      "13/13 [==============================] - 13s 1s/step - loss: 0.4517 - accuracy: 0.7761 - val_loss: 1.0831 - val_accuracy: 0.3657\n",
      "Epoch 14/50\n",
      "13/13 [==============================] - 13s 1s/step - loss: 0.4715 - accuracy: 0.7575 - val_loss: 0.9365 - val_accuracy: 0.4030\n",
      "Epoch 15/50\n",
      "13/13 [==============================] - 13s 1s/step - loss: 0.3953 - accuracy: 0.8255 - val_loss: 1.2382 - val_accuracy: 0.3731\n",
      "Epoch 16/50\n",
      "13/13 [==============================] - 13s 1s/step - loss: 0.4189 - accuracy: 0.8102 - val_loss: 0.8066 - val_accuracy: 0.4701\n",
      "Epoch 17/50\n",
      "13/13 [==============================] - 14s 1s/step - loss: 0.3862 - accuracy: 0.8449 - val_loss: 0.6340 - val_accuracy: 0.6194\n",
      "Epoch 18/50\n",
      "13/13 [==============================] - 13s 1s/step - loss: 0.3708 - accuracy: 0.8444 - val_loss: 1.0485 - val_accuracy: 0.3582\n",
      "Epoch 19/50\n",
      "13/13 [==============================] - 13s 1s/step - loss: 0.3273 - accuracy: 0.8422 - val_loss: 0.7317 - val_accuracy: 0.5299\n",
      "Epoch 20/50\n",
      "13/13 [==============================] - 14s 1s/step - loss: 0.3882 - accuracy: 0.8158 - val_loss: 0.7366 - val_accuracy: 0.5373\n",
      "Epoch 21/50\n",
      "13/13 [==============================] - 14s 1s/step - loss: 0.3177 - accuracy: 0.8474 - val_loss: 0.6121 - val_accuracy: 0.6716\n",
      "Epoch 22/50\n",
      "13/13 [==============================] - 17s 1s/step - loss: 0.3965 - accuracy: 0.8106 - val_loss: 0.6751 - val_accuracy: 0.5672\n",
      "Epoch 23/50\n",
      "13/13 [==============================] - 14s 1s/step - loss: 0.3403 - accuracy: 0.8646 - val_loss: 0.6073 - val_accuracy: 0.6343\n",
      "Epoch 24/50\n",
      "13/13 [==============================] - 14s 1s/step - loss: 0.2737 - accuracy: 0.9281 - val_loss: 0.6844 - val_accuracy: 0.6642\n",
      "Epoch 25/50\n",
      "13/13 [==============================] - 14s 1s/step - loss: 0.2204 - accuracy: 0.9151 - val_loss: 0.6589 - val_accuracy: 0.6269\n",
      "Epoch 26/50\n",
      "13/13 [==============================] - 14s 1s/step - loss: 0.3562 - accuracy: 0.8480 - val_loss: 0.6046 - val_accuracy: 0.6716\n",
      "Epoch 27/50\n",
      "13/13 [==============================] - 14s 1s/step - loss: 0.2831 - accuracy: 0.8894 - val_loss: 0.5270 - val_accuracy: 0.7239\n",
      "Epoch 28/50\n",
      "13/13 [==============================] - 14s 1s/step - loss: 0.2275 - accuracy: 0.9121 - val_loss: 0.6931 - val_accuracy: 0.6343\n",
      "Epoch 29/50\n",
      "13/13 [==============================] - 14s 1s/step - loss: 0.2249 - accuracy: 0.9265 - val_loss: 0.7017 - val_accuracy: 0.6269\n",
      "Epoch 30/50\n",
      "13/13 [==============================] - 13s 1s/step - loss: 0.1888 - accuracy: 0.9273 - val_loss: 0.6601 - val_accuracy: 0.6791\n",
      "Epoch 31/50\n",
      "13/13 [==============================] - 13s 1s/step - loss: 0.1860 - accuracy: 0.9177 - val_loss: 0.6106 - val_accuracy: 0.7463\n",
      "Epoch 32/50\n",
      "13/13 [==============================] - 15s 1s/step - loss: 0.1682 - accuracy: 0.9390 - val_loss: 0.6968 - val_accuracy: 0.7164\n",
      "Epoch 33/50\n",
      "13/13 [==============================] - 12s 937ms/step - loss: 0.1090 - accuracy: 0.9581 - val_loss: 0.3571 - val_accuracy: 0.8507\n",
      "Epoch 34/50\n",
      "13/13 [==============================] - 12s 926ms/step - loss: 0.2283 - accuracy: 0.9089 - val_loss: 0.3558 - val_accuracy: 0.8433\n",
      "Epoch 35/50\n",
      "13/13 [==============================] - 12s 937ms/step - loss: 0.1399 - accuracy: 0.9764 - val_loss: 0.5385 - val_accuracy: 0.7761\n",
      "Epoch 36/50\n",
      "13/13 [==============================] - 12s 936ms/step - loss: 0.1316 - accuracy: 0.9588 - val_loss: 0.2783 - val_accuracy: 0.8507\n",
      "Epoch 37/50\n",
      "13/13 [==============================] - 12s 924ms/step - loss: 0.1113 - accuracy: 0.9614 - val_loss: 0.4185 - val_accuracy: 0.8134\n",
      "Epoch 38/50\n",
      "13/13 [==============================] - 12s 938ms/step - loss: 0.0807 - accuracy: 0.9709 - val_loss: 0.3933 - val_accuracy: 0.8209\n",
      "Epoch 39/50\n",
      "13/13 [==============================] - 12s 928ms/step - loss: 0.1101 - accuracy: 0.9638 - val_loss: 0.3020 - val_accuracy: 0.8507\n",
      "Epoch 40/50\n",
      "13/13 [==============================] - 12s 935ms/step - loss: 0.0814 - accuracy: 0.9706 - val_loss: 0.2563 - val_accuracy: 0.9030\n",
      "Epoch 41/50\n",
      "13/13 [==============================] - 12s 923ms/step - loss: 0.0671 - accuracy: 0.9859 - val_loss: 0.3707 - val_accuracy: 0.8209\n",
      "Epoch 42/50\n",
      "13/13 [==============================] - 12s 925ms/step - loss: 0.0823 - accuracy: 0.9726 - val_loss: 0.4064 - val_accuracy: 0.8284\n",
      "Epoch 43/50\n",
      "13/13 [==============================] - 12s 929ms/step - loss: 0.0940 - accuracy: 0.9624 - val_loss: 0.3204 - val_accuracy: 0.8582\n",
      "Epoch 44/50\n",
      "13/13 [==============================] - 12s 932ms/step - loss: 0.0939 - accuracy: 0.9673 - val_loss: 0.2634 - val_accuracy: 0.8731\n",
      "Epoch 45/50\n",
      "13/13 [==============================] - 12s 930ms/step - loss: 0.0917 - accuracy: 0.9670 - val_loss: 0.3267 - val_accuracy: 0.8433\n",
      "Epoch 46/50\n",
      "13/13 [==============================] - 12s 945ms/step - loss: 0.0840 - accuracy: 0.9717 - val_loss: 0.4351 - val_accuracy: 0.8284\n",
      "Epoch 47/50\n",
      "13/13 [==============================] - 12s 937ms/step - loss: 0.1328 - accuracy: 0.9643 - val_loss: 0.3180 - val_accuracy: 0.8806\n",
      "Epoch 48/50\n",
      "13/13 [==============================] - 12s 936ms/step - loss: 0.0544 - accuracy: 0.9830 - val_loss: 0.4671 - val_accuracy: 0.8284\n",
      "Epoch 49/50\n",
      "13/13 [==============================] - 14s 1s/step - loss: 0.1260 - accuracy: 0.9411 - val_loss: 0.2905 - val_accuracy: 0.8507\n",
      "Epoch 50/50\n",
      "13/13 [==============================] - 14s 1s/step - loss: 0.0792 - accuracy: 0.9675 - val_loss: 0.2656 - val_accuracy: 0.8657\n"
     ]
    }
   ],
   "source": [
    "# fit the model\n",
    "# Run the cell. It will take some time to execute\n",
    "r = model.fit_generator(\n",
    "  training_set,\n",
    "  validation_data=test_set,\n",
    "  epochs=50,\n",
    "  steps_per_epoch=len(training_set),\n",
    "  validation_steps=len(test_set)\n",
    ")"
   ]
  },
  {
   "cell_type": "code",
   "execution_count": 24,
   "metadata": {},
   "outputs": [
    {
     "data": {
      "image/png": "[encoded data removed]",
      "text/plain": [
       "<Figure size 432x288 with 1 Axes>"
      ]
     },
     "metadata": {
      "needs_background": "light"
     },
     "output_type": "display_data"
    },
    {
     "data": {
      "image/png": "[encoded data removed]",
      "text/plain": [
       "<Figure size 432x288 with 1 Axes>"
      ]
     },
     "metadata": {
      "needs_background": "light"
     },
     "output_type": "display_data"
    },
    {
     "data": {
      "text/plain": [
       "<Figure size 432x288 with 0 Axes>"
      ]
     },
     "metadata": {},
     "output_type": "display_data"
    }
   ],
   "source": [
    "# plot the loss\n",
    "plt.plot(r.history['loss'], label='train loss')\n",
    "plt.plot(r.history['val_loss'], label='val loss')\n",
    "plt.legend()\n",
    "plt.show()\n",
    "plt.savefig('LossVal_loss')\n",
    "\n",
    "# plot the accuracy\n",
    "plt.plot(r.history['accuracy'], label='train acc')\n",
    "plt.plot(r.history['val_accuracy'], label='val acc')\n",
    "plt.legend()\n",
    "plt.show()\n",
    "plt.savefig('AccVal_acc')"
   ]
  },
  {
   "cell_type": "code",
   "execution_count": 25,
   "metadata": {},
   "outputs": [],
   "source": [
    "# save it as a h5 file\n",
    "\n",
    "\n",
    "from tensorflow.keras.models import load_model\n",
    "\n",
    "model.save('model_vgg19.h5')"
   ]
  },
  {
   "cell_type": "code",
   "execution_count": 26,
   "metadata": {},
   "outputs": [],
   "source": [
    "\n",
    "y_pred = model.predict(test_set)\n"
   ]
  },
  {
   "cell_type": "code",
   "execution_count": 27,
   "metadata": {},
   "outputs": [
    {
     "data": {
      "text/plain": [
       "array([[2.5166008e-01, 7.4833989e-01],\n",
       "       [9.9627906e-01, 3.7208740e-03],\n",
       "       [9.9999988e-01, 7.2417564e-08],\n",
       "       [7.4522078e-02, 9.2547792e-01],\n",
       "       [1.0000000e+00, 2.1013752e-11],\n",
       "       [9.9340111e-01, 6.5988549e-03],\n",
       "       [9.9976450e-01, 2.3555454e-04],\n",
       "       [9.9647164e-01, 3.5283961e-03],\n",
       "       [9.9741095e-01, 2.5890246e-03],\n",
       "       [4.5458898e-02, 9.5454109e-01],\n",
       "       [3.7139796e-02, 9.6286023e-01],\n",
       "       [2.6269421e-02, 9.7373056e-01],\n",
       "       [3.9473604e-02, 9.6052635e-01],\n",
       "       [9.9972564e-01, 2.7439688e-04],\n",
       "       [9.9997151e-01, 2.8451548e-05],\n",
       "       [1.0000000e+00, 1.5029308e-08],\n",
       "       [9.9968290e-01, 3.1712218e-04],\n",
       "       [9.9828941e-01, 1.7106257e-03],\n",
       "       [6.8319432e-02, 9.3168062e-01],\n",
       "       [9.9996197e-01, 3.7978276e-05],\n",
       "       [9.7552061e-01, 2.4479439e-02],\n",
       "       [9.7879350e-01, 2.1206416e-02],\n",
       "       [9.9821389e-01, 1.7861691e-03],\n",
       "       [1.8420669e-01, 8.1579328e-01],\n",
       "       [9.9999976e-01, 2.2437089e-07],\n",
       "       [9.9760568e-01, 2.3943104e-03],\n",
       "       [1.0000000e+00, 1.5864177e-09],\n",
       "       [9.9442911e-01, 5.5709579e-03],\n",
       "       [9.9974507e-01, 2.5495002e-04],\n",
       "       [1.1324881e-01, 8.8675123e-01],\n",
       "       [9.9999964e-01, 3.4806831e-07],\n",
       "       [1.2079826e-02, 9.8792017e-01],\n",
       "       [9.9999940e-01, 5.6633905e-07],\n",
       "       [9.3335330e-01, 6.6646650e-02],\n",
       "       [1.7381299e-01, 8.2618701e-01],\n",
       "       [2.5253826e-01, 7.4746180e-01],\n",
       "       [9.9737072e-01, 2.6292568e-03],\n",
       "       [8.4989405e-01, 1.5010594e-01],\n",
       "       [2.1487668e-02, 9.7851229e-01],\n",
       "       [9.9985814e-01, 1.4179994e-04],\n",
       "       [2.6307103e-01, 7.3692894e-01],\n",
       "       [9.8019546e-01, 1.9804534e-02],\n",
       "       [5.0134189e-02, 9.4986582e-01],\n",
       "       [1.8792870e-02, 9.8120719e-01],\n",
       "       [9.8988146e-01, 1.0118570e-02],\n",
       "       [7.3647715e-02, 9.2635226e-01],\n",
       "       [9.9811554e-01, 1.8844410e-03],\n",
       "       [8.0501519e-02, 9.1949850e-01],\n",
       "       [2.0863369e-01, 7.9136634e-01],\n",
       "       [4.6746314e-01, 5.3253692e-01],\n",
       "       [2.3606887e-01, 7.6393116e-01],\n",
       "       [1.0000000e+00, 9.2111811e-13],\n",
       "       [9.0095943e-01, 9.9040605e-02],\n",
       "       [9.9979633e-01, 2.0369948e-04],\n",
       "       [9.9996829e-01, 3.1758151e-05],\n",
       "       [9.9999988e-01, 1.2578245e-07],\n",
       "       [9.9995995e-01, 4.0043105e-05],\n",
       "       [2.8356484e-01, 7.1643519e-01],\n",
       "       [9.9999893e-01, 1.0954657e-06],\n",
       "       [1.0000000e+00, 2.5178764e-08],\n",
       "       [9.9995911e-01, 4.0903666e-05],\n",
       "       [6.9914013e-01, 3.0085978e-01],\n",
       "       [9.9925989e-01, 7.4006076e-04],\n",
       "       [9.9520445e-01, 4.7956132e-03],\n",
       "       [9.9999976e-01, 2.2471352e-07],\n",
       "       [9.8406756e-01, 1.5932478e-02],\n",
       "       [2.1684137e-01, 7.8315866e-01],\n",
       "       [9.9284899e-01, 7.1509667e-03],\n",
       "       [2.2466229e-01, 7.7533770e-01],\n",
       "       [1.3158722e-01, 8.6841279e-01],\n",
       "       [8.4739310e-01, 1.5260686e-01],\n",
       "       [9.9867082e-01, 1.3292277e-03],\n",
       "       [2.5398077e-02, 9.7460186e-01],\n",
       "       [9.8366815e-01, 1.6331814e-02],\n",
       "       [9.8941004e-01, 1.0590036e-02],\n",
       "       [5.2302510e-02, 9.4769752e-01],\n",
       "       [1.0000000e+00, 5.7080785e-11],\n",
       "       [9.9984813e-01, 1.5188886e-04],\n",
       "       [3.2934807e-02, 9.6706522e-01],\n",
       "       [2.0869477e-01, 7.9130524e-01],\n",
       "       [9.9766469e-01, 2.3353717e-03],\n",
       "       [6.3072944e-01, 3.6927059e-01],\n",
       "       [5.6976825e-01, 4.3023178e-01],\n",
       "       [9.9612337e-01, 3.8765615e-03],\n",
       "       [1.6443190e-01, 8.3556807e-01],\n",
       "       [1.3604061e-01, 8.6395943e-01],\n",
       "       [5.5014115e-02, 9.4498593e-01],\n",
       "       [8.7148517e-02, 9.1285151e-01],\n",
       "       [6.7137294e-02, 9.3286264e-01],\n",
       "       [4.0223390e-01, 5.9776610e-01],\n",
       "       [9.9999738e-01, 2.6229541e-06],\n",
       "       [3.5573568e-02, 9.6442640e-01],\n",
       "       [9.9990153e-01, 9.8474397e-05],\n",
       "       [5.3714168e-01, 4.6285829e-01],\n",
       "       [9.9941730e-01, 5.8277039e-04],\n",
       "       [2.2850752e-01, 7.7149248e-01],\n",
       "       [4.0832452e-02, 9.5916754e-01],\n",
       "       [9.9990261e-01, 9.7393160e-05],\n",
       "       [9.9989128e-01, 1.0873857e-04],\n",
       "       [1.6559141e-02, 9.8344088e-01],\n",
       "       [2.9904774e-01, 7.0095223e-01],\n",
       "       [8.6020097e-02, 9.1397989e-01],\n",
       "       [4.7877908e-01, 5.2122092e-01],\n",
       "       [7.0816696e-01, 2.9183304e-01],\n",
       "       [9.9408334e-01, 5.9166644e-03],\n",
       "       [9.9999297e-01, 6.9948401e-06],\n",
       "       [4.0389735e-02, 9.5961028e-01],\n",
       "       [9.9999988e-01, 1.6510864e-07],\n",
       "       [9.9999988e-01, 7.4642131e-08],\n",
       "       [9.9999928e-01, 7.2536301e-07],\n",
       "       [9.9770868e-01, 2.2913357e-03],\n",
       "       [2.0396555e-02, 9.7960347e-01],\n",
       "       [3.7017275e-02, 9.6298271e-01],\n",
       "       [8.1663400e-02, 9.1833657e-01],\n",
       "       [9.9679095e-01, 3.2090705e-03],\n",
       "       [9.9998879e-01, 1.1238763e-05],\n",
       "       [2.5676671e-01, 7.4323326e-01],\n",
       "       [5.7490822e-02, 9.4250917e-01],\n",
       "       [4.0081167e-01, 5.9918827e-01],\n",
       "       [9.7792333e-01, 2.2076642e-02],\n",
       "       [3.1519049e-01, 6.8480957e-01],\n",
       "       [9.9999452e-01, 5.4331299e-06],\n",
       "       [3.5505455e-02, 9.6449453e-01],\n",
       "       [7.7684082e-02, 9.2231590e-01],\n",
       "       [2.5402710e-01, 7.4597293e-01],\n",
       "       [3.7797961e-02, 9.6220201e-01],\n",
       "       [1.6421592e-02, 9.8357844e-01],\n",
       "       [2.0092437e-01, 7.9907560e-01],\n",
       "       [1.0000000e+00, 7.8111339e-14],\n",
       "       [7.5048044e-02, 9.2495203e-01],\n",
       "       [9.9969184e-01, 3.0812091e-04],\n",
       "       [1.0000000e+00, 1.1008665e-12],\n",
       "       [8.9410357e-02, 9.1058969e-01],\n",
       "       [1.8674796e-02, 9.8132515e-01]], dtype=float32)"
      ]
     },
     "execution_count": 27,
     "metadata": {},
     "output_type": "execute_result"
    }
   ],
   "source": [
    "y_pred"
   ]
  },
  {
   "cell_type": "code",
   "execution_count": 28,
   "metadata": {},
   "outputs": [],
   "source": [
    "import numpy as np\n",
    "y_pred = np.argmax(y_pred, axis=1)"
   ]
  },
  {
   "cell_type": "code",
   "execution_count": 29,
   "metadata": {},
   "outputs": [
    {
     "data": {
      "text/plain": [
       "array([1, 0, 0, 1, 0, 0, 0, 0, 0, 1, 1, 1, 1, 0, 0, 0, 0, 0, 1, 0, 0, 0,\n",
       "       0, 1, 0, 0, 0, 0, 0, 1, 0, 1, 0, 0, 1, 1, 0, 0, 1, 0, 1, 0, 1, 1,\n",
       "       0, 1, 0, 1, 1, 1, 1, 0, 0, 0, 0, 0, 0, 1, 0, 0, 0, 0, 0, 0, 0, 0,\n",
       "       1, 0, 1, 1, 0, 0, 1, 0, 0, 1, 0, 0, 1, 1, 0, 0, 0, 0, 1, 1, 1, 1,\n",
       "       1, 1, 0, 1, 0, 0, 0, 1, 1, 0, 0, 1, 1, 1, 1, 0, 0, 0, 1, 0, 0, 0,\n",
       "       0, 1, 1, 1, 0, 0, 1, 1, 1, 0, 1, 0, 1, 1, 1, 1, 1, 1, 0, 1, 0, 0,\n",
       "       1, 1], dtype=int64)"
      ]
     },
     "execution_count": 29,
     "metadata": {},
     "output_type": "execute_result"
    }
   ],
   "source": [
    "y_pred"
   ]
  },
  {
   "cell_type": "code",
   "execution_count": 30,
   "metadata": {},
   "outputs": [],
   "source": [
    "from tensorflow.keras.models import load_model\n",
    "from tensorflow.keras.preprocessing import image"
   ]
  },
  {
   "cell_type": "code",
   "execution_count": 31,
   "metadata": {},
   "outputs": [],
   "source": [
    "model=load_model('model_vgg19.h5')"
   ]
  },
  {
   "cell_type": "code",
   "execution_count": 32,
   "metadata": {},
   "outputs": [],
   "source": [
    "img=image.load_img('Dataset/Test/Uninfected/2.png',target_size=(224,224))"
   ]
  },
  {
   "cell_type": "code",
   "execution_count": 33,
   "metadata": {},
   "outputs": [
    {
     "data": {
      "text/plain": [
       "array([[[0., 0., 0.],\n",
       "        [0., 0., 0.],\n",
       "        [0., 0., 0.],\n",
       "        ...,\n",
       "        [0., 0., 0.],\n",
       "        [0., 0., 0.],\n",
       "        [0., 0., 0.]],\n",
       "\n",
       "       [[0., 0., 0.],\n",
       "        [0., 0., 0.],\n",
       "        [0., 0., 0.],\n",
       "        ...,\n",
       "        [0., 0., 0.],\n",
       "        [0., 0., 0.],\n",
       "        [0., 0., 0.]],\n",
       "\n",
       "       [[0., 0., 0.],\n",
       "        [0., 0., 0.],\n",
       "        [0., 0., 0.],\n",
       "        ...,\n",
       "        [0., 0., 0.],\n",
       "        [0., 0., 0.],\n",
       "        [0., 0., 0.]],\n",
       "\n",
       "       ...,\n",
       "\n",
       "       [[0., 0., 0.],\n",
       "        [0., 0., 0.],\n",
       "        [0., 0., 0.],\n",
       "        ...,\n",
       "        [0., 0., 0.],\n",
       "        [0., 0., 0.],\n",
       "        [0., 0., 0.]],\n",
       "\n",
       "       [[0., 0., 0.],\n",
       "        [0., 0., 0.],\n",
       "        [0., 0., 0.],\n",
       "        ...,\n",
       "        [0., 0., 0.],\n",
       "        [0., 0., 0.],\n",
       "        [0., 0., 0.]],\n",
       "\n",
       "       [[0., 0., 0.],\n",
       "        [0., 0., 0.],\n",
       "        [0., 0., 0.],\n",
       "        ...,\n",
       "        [0., 0., 0.],\n",
       "        [0., 0., 0.],\n",
       "        [0., 0., 0.]]], dtype=float32)"
      ]
     },
     "execution_count": 33,
     "metadata": {},
     "output_type": "execute_result"
    }
   ],
   "source": [
    "x=image.img_to_array(img)\n",
    "x"
   ]
  },
  {
   "cell_type": "code",
   "execution_count": 34,
   "metadata": {},
   "outputs": [
    {
     "data": {
      "text/plain": [
       "(224, 224, 3)"
      ]
     },
     "execution_count": 34,
     "metadata": {},
     "output_type": "execute_result"
    }
   ],
   "source": [
    "x.shape"
   ]
  },
  {
   "cell_type": "code",
   "execution_count": 35,
   "metadata": {},
   "outputs": [],
   "source": [
    "x=x/255"
   ]
  },
  {
   "cell_type": "code",
   "execution_count": 36,
   "metadata": {},
   "outputs": [
    {
     "data": {
      "text/plain": [
       "(1, 224, 224, 3)"
      ]
     },
     "execution_count": 36,
     "metadata": {},
     "output_type": "execute_result"
    }
   ],
   "source": [
    "x=np.expand_dims(x,axis=0)\n",
    "img_data=preprocess_input(x)\n",
    "img_data.shape"
   ]
  },
  {
   "cell_type": "code",
   "execution_count": 37,
   "metadata": {},
   "outputs": [
    {
     "data": {
      "text/plain": [
       "array([[1., 0.]], dtype=float32)"
      ]
     },
     "execution_count": 37,
     "metadata": {},
     "output_type": "execute_result"
    }
   ],
   "source": [
    "model.predict(img_data)"
   ]
  },
  {
   "cell_type": "code",
   "execution_count": 38,
   "metadata": {},
   "outputs": [],
   "source": [
    "a=np.argmax(model.predict(img_data), axis=1)"
   ]
  },
  {
   "cell_type": "code",
   "execution_count": 39,
   "metadata": {},
   "outputs": [
    {
     "name": "stdout",
     "output_type": "stream",
     "text": [
      "Infected\n"
     ]
    }
   ],
   "source": [
    "if(a==1):\n",
    "    print(\"Uninfected\")\n",
    "else:\n",
    "    print(\"Infected\")"
   ]
  }
 ],
 "metadata": {
  "kernelspec": {
   "display_name": "Python 3",
   "language": "python",
   "name": "python3"
  },
  "language_info": {
   "codemirror_mode": {
    "name": "ipython",
    "version": 3
   },
   "file_extension": ".py",
   "mimetype": "text/x-python",
   "name": "python",
   "nbconvert_exporter": "python",
   "pygments_lexer": "ipython3",
   "version": "3.7.6"
  }
 },
 "nbformat": 4,
 "nbformat_minor": 2
}
